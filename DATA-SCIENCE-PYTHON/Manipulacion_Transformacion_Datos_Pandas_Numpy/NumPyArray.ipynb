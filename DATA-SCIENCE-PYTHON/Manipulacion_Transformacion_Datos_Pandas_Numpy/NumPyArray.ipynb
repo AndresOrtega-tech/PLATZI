{
 "cells": [
  {
   "cell_type": "code",
   "execution_count": 1,
   "metadata": {},
   "outputs": [],
   "source": [
    "import numpy as np"
   ]
  },
  {
   "cell_type": "code",
   "execution_count": 2,
   "metadata": {},
   "outputs": [
    {
     "data": {
      "text/plain": [
       "[1, 2, 3, 4, 5, 6, 7, 8, 9]"
      ]
     },
     "execution_count": 2,
     "metadata": {},
     "output_type": "execute_result"
    }
   ],
   "source": [
    "lista = [1,2,3,4,5,6,7,8,9]\n",
    "lista"
   ]
  },
  {
   "cell_type": "code",
   "execution_count": 5,
   "metadata": {},
   "outputs": [
    {
     "data": {
      "text/plain": [
       "array([1, 2, 3, 4, 5, 6, 7, 8, 9])"
      ]
     },
     "execution_count": 5,
     "metadata": {},
     "output_type": "execute_result"
    }
   ],
   "source": [
    "arr = np.array(lista)\n",
    "arr"
   ]
  },
  {
   "cell_type": "code",
   "execution_count": 6,
   "metadata": {},
   "outputs": [
    {
     "data": {
      "text/plain": [
       "numpy.ndarray"
      ]
     },
     "execution_count": 6,
     "metadata": {},
     "output_type": "execute_result"
    }
   ],
   "source": [
    "type(arr)"
   ]
  },
  {
   "cell_type": "code",
   "execution_count": 8,
   "metadata": {},
   "outputs": [
    {
     "data": {
      "text/plain": [
       "array([[1, 2, 3],\n",
       "       [4, 5, 6],\n",
       "       [7, 8, 9]])"
      ]
     },
     "execution_count": 8,
     "metadata": {},
     "output_type": "execute_result"
    }
   ],
   "source": [
    "matriz = [[1,2,3],[4,5,6],[7,8,9]]\n",
    "arrMatriz = np.array(matriz)\n",
    "arrMatriz"
   ]
  },
  {
   "cell_type": "code",
   "execution_count": 13,
   "metadata": {},
   "outputs": [
    {
     "name": "stdout",
     "output_type": "stream",
     "text": [
      "6\n",
      "[1 2 3]\n",
      "3\n"
     ]
    }
   ],
   "source": [
    "# indexing (acceder a valores del array por el index)\n",
    "print(arr[5])\n",
    "print(arrMatriz[0]) # Accede al primero a las filas, en este caso la fila 0\n",
    "print(arrMatriz[0,2]) # Accede a un numero en especifico, [filas, columnas]"
   ]
  },
  {
   "cell_type": "code",
   "execution_count": 19,
   "metadata": {},
   "outputs": [
    {
     "name": "stdout",
     "output_type": "stream",
     "text": [
      "[1 2 3]\n",
      "[1 2 3 4 5 6]\n",
      "[3 4 5 6 7 8 9]\n",
      "[1 4 7]\n",
      "9\n"
     ]
    }
   ],
   "source": [
    "# slicing (acceder a un conjunto de valores)\n",
    "print(arr[0:3]) # de la posicion 0 a la posicion 3\n",
    "print(arr[:6]) # si no se pone el primer numero, arranca desde el 0 hasta el index puesto\n",
    "print(arr[2:]) # si no se pone el segundo numero, arranca desde el index puesto hasta el final\n",
    "print(arr[::3]) # el ultimo numero son los brincos que hace de index (en este caso, de 3 en 3)\n",
    "print(arr[-1]) # un 'menos' lo hace alreves (empieza desde el final)"
   ]
  },
  {
   "cell_type": "code",
   "execution_count": 22,
   "metadata": {},
   "outputs": [
    {
     "name": "stdout",
     "output_type": "stream",
     "text": [
      "[[4 5 6]\n",
      " [7 8 9]]\n",
      "[[4 5]\n",
      " [7 8]]\n"
     ]
    }
   ],
   "source": [
    "# slicing en matriz\n",
    "print(arrMatriz[1:]) # imprime de la fila uno en adelante\n",
    "print(arrMatriz[1:, 0:2]) # imprime de la fila uno en adelante, de la columna 0 a la 2"
   ]
  },
  {
   "cell_type": "code",
   "execution_count": null,
   "metadata": {},
   "outputs": [],
   "source": []
  }
 ],
 "metadata": {
  "kernelspec": {
   "display_name": "Python 3",
   "language": "python",
   "name": "python3"
  },
  "language_info": {
   "codemirror_mode": {
    "name": "ipython",
    "version": 3
   },
   "file_extension": ".py",
   "mimetype": "text/x-python",
   "name": "python",
   "nbconvert_exporter": "python",
   "pygments_lexer": "ipython3",
   "version": "3.12.4"
  }
 },
 "nbformat": 4,
 "nbformat_minor": 2
}
